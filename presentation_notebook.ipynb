{
 "cells": [
  {
   "cell_type": "markdown",
   "metadata": {},
   "source": [
    "# An Exploration of Congressional Voting Behaviour"
   ]
  },
  {
   "cell_type": "markdown",
   "metadata": {},
   "source": []
  },
  {
   "cell_type": "markdown",
   "metadata": {},
   "source": [
    "## Key Questions"
   ]
  },
  {
   "cell_type": "markdown",
   "metadata": {},
   "source": [
    "**High Level Objective**\n",
    "Explore voting patterns among members of Congress over time to understand what factors impact abstain votes and yes/no votes\n",
    "\n",
    "**Questions Phase I**\n",
    "*Yes Votes*\n",
    "1. Do Republicans and Democrats in Congress vote yes in the same proportion?\n",
    "2. Do Republicans and Democrats in the House of Representatives vote yes in the same proportion?\n",
    "3. Do Republicans and Democrats in the Senate vote yes in the same proportion?\n",
    "\n",
    "*Abstain votes*\n",
    "4. Do Republicans and Democracts abstain from voting in the same proportion?\n",
    "5. Do members of the House of Representatives and the Senate abstain from voting in the same proportion?\n",
    "6. Do Republican and Democractic members of the House of Representatives abstain from voting in the same proportion?\n",
    "7. Do Republican and Democractic members of the Senate abstain from voting in the same proportion?\n",
    "\n",
    "Based on these questions, we will formulate next step questions to further understand voting behaviour"
   ]
  },
  {
   "cell_type": "markdown",
   "metadata": {},
   "source": [
    "## Methodology and Data Source\n",
    "\n",
    "**Methodology**    \n",
    "For each of the test, we took the following methodology:\n",
    "1. Determined percentage by dividing vote categories (yay, abstain) for each party against total party members present\n",
    "2. Compared lists of percentage sample means\n",
    "3. Applied a two-sided t-test with an alpha of .05\n",
    "\n",
    "**Data Source**    \n",
    "Data for this report comes from the [ProPublica Congress API](https://projects.propublica.org/api-docs/congress-api/).  Specifically, data regarding Congressional votes is used from this API."
   ]
  },
  {
   "cell_type": "markdown",
   "metadata": {},
   "source": [
    "## Findings Summary"
   ]
  },
  {
   "cell_type": "markdown",
   "metadata": {},
   "source": [
    "### Question 1\n",
    "\n",
    "This questions looks at whether Republicans and Democrats in Congress vote yes in the same proportion.\n",
    "\n",
    "We find that there is not a compelling difference in proportion 'yes' votes of Republicans and Democrats.\n",
    "\n",
    "As a next step, we would want to look at this by chamber.\n",
    "\n",
    "<img src=\"img/hypothesis_one.png\">"
   ]
  },
  {
   "cell_type": "markdown",
   "metadata": {},
   "source": [
    "### Question 2\n",
    "\n",
    "This questions looks at whether Republicans and Democrats in the House of Representatives vote yes in the same proportion.\n",
    "\n",
    "We find that there is not a compelling difference in proportion 'yes' votes of Republicans and Democrats in the House of Representatives\n",
    "\n",
    "As a next step, we would want to look at the differences in voting on certain topics.\n",
    "\n",
    "<img src=\"img/hypothesis_two.png\">"
   ]
  },
  {
   "cell_type": "markdown",
   "metadata": {},
   "source": [
    "### Question 3\n",
    "\n",
    "This questions looks at whether Republicans and Democrats in the Senate vote yes in the same proportion.\n",
    "\n",
    "We find that there is not a compelling difference in proportion 'yes' votes of Republicans and Democrats in the Senate.\n",
    "\n",
    "As a next step, we would want to look at the differences in voting on certain topics.\n",
    "\n",
    "<img src=\"img/hypothesis_three.png\">"
   ]
  },
  {
   "cell_type": "markdown",
   "metadata": {},
   "source": [
    "### Question 4\n",
    "\n",
    "This questions looks at whether Republicans and Democrats in Congress abstain from voting in the same proportion.\n",
    "\n",
    "We find that there is a compelling difference in proportion of votes for which Republicans and Democrats abstain from voting.  Specifically, Democracts have a higher proportion of votes for which they have abstained, on average.\n",
    "\n",
    "As a next step, we would want to compare the proportion of votes for which members abstain across chambers.\n",
    "\n",
    "<img src=\"img/hypothesis_four.png\">"
   ]
  },
  {
   "cell_type": "markdown",
   "metadata": {},
   "source": [
    "### Question 5\n",
    "\n",
    "This questions looks at whether members of the House of Representatives and Senate abstain from voting in the same proportion.\n",
    "\n",
    "We find that there is a compelling difference in proportion of votes for which House and Senate members abstain from voting. Specifically, members of the House of Representatives have a higher proportion of votes for which they have abstained, on average.\n",
    "\n",
    "<img src=\"img/hypothesis_five.png\">"
   ]
  },
  {
   "cell_type": "markdown",
   "metadata": {},
   "source": [
    "### Question 6\n",
    "\n",
    "This questions looks at whether Republicans and Democrats in the House of Representatives abstain from voting in the same proportion.\n",
    "\n",
    "We find that there is not a compelling difference in proportion of votes for which Republicans and Democrats abstain from voting in the House of Representatives.  Specifically, Democracts have a higher proportion of votes for which they have abstained, on average.\n",
    "\n",
    "As a next step, we would want to compare the proportion of votes for which members abstain on certain topics.\n",
    "\n",
    "<img src=\"img/hypothesis_six.png\">"
   ]
  },
  {
   "cell_type": "markdown",
   "metadata": {},
   "source": [
    "### Question 7\n",
    "\n",
    "This questions looks at whether Republicans and Democrats in the Senate abstain from voting in the same proportion.\n",
    "\n",
    "We find that there is a compelling difference in proportion of votes for which Republicans and Democrats abstain from voting in the Senate.  Specifically, Democracts have a higher proportion of votes for which they have abstained, on average.\n",
    "\n",
    "As a next step, we would want to compare the proportion of votes for which members abstain on certain topics.\n",
    "\n",
    "<img src=\"img/hypothesis_seven.png\">"
   ]
  },
  {
   "cell_type": "markdown",
   "metadata": {},
   "source": [
    "## Further Research and Next Steps\n",
    "\n",
    "**Further Research**\n",
    "Our current research points out areas that are and are not significant. Key findings are that major differences between parties are not seen in the probability yes between parties. Both Democrats and House Members were most likely to abstain from voting. The house Republicans had the largest variance in abstain votes.\n",
    "\n",
    "**Next Step Questions**\n",
    "1. Does Party in power of Chamber impact voting?\n",
    "2. Does topic of bill impact votes?\n",
    "3. How has votes changed over time?\n",
    "4. Does the type of motion impact votes?"
   ]
  },
  {
   "cell_type": "markdown",
   "metadata": {},
   "source": [
    "### We look forward to our continued cooperation and we thank you for your time"
   ]
  }
 ],
 "metadata": {
  "kernelspec": {
   "display_name": "Python 3",
   "language": "python",
   "name": "python3"
  },
  "language_info": {
   "codemirror_mode": {
    "name": "ipython",
    "version": 3
   },
   "file_extension": ".py",
   "mimetype": "text/x-python",
   "name": "python",
   "nbconvert_exporter": "python",
   "pygments_lexer": "ipython3",
   "version": "3.7.3"
  }
 },
 "nbformat": 4,
 "nbformat_minor": 2
}
